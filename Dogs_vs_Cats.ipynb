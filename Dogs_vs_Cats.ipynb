{
  "nbformat": 4,
  "nbformat_minor": 0,
  "metadata": {
    "colab": {
      "provenance": []
    },
    "kernelspec": {
      "name": "python3",
      "display_name": "Python 3"
    },
    "language_info": {
      "name": "python"
    }
  },
  "cells": [
    {
      "cell_type": "code",
      "execution_count": 1,
      "metadata": {
        "colab": {
          "base_uri": "https://localhost:8080/",
          "height": 145
        },
        "id": "eW20mZarHE0s",
        "outputId": "f7106875-e23b-45f4-cf29-662b463be054"
      },
      "outputs": [
        {
          "output_type": "stream",
          "name": "stdout",
          "text": [
            "Click the button below to upload your kaggle.json file.\n"
          ]
        },
        {
          "output_type": "display_data",
          "data": {
            "text/plain": [
              "<IPython.core.display.HTML object>"
            ],
            "text/html": [
              "\n",
              "     <input type=\"file\" id=\"files-14331a3c-5c98-4a2f-bf94-9eff0f8e2a71\" name=\"files[]\" multiple disabled\n",
              "        style=\"border:none\" />\n",
              "     <output id=\"result-14331a3c-5c98-4a2f-bf94-9eff0f8e2a71\">\n",
              "      Upload widget is only available when the cell has been executed in the\n",
              "      current browser session. Please rerun this cell to enable.\n",
              "      </output>\n",
              "      <script>// Copyright 2017 Google LLC\n",
              "//\n",
              "// Licensed under the Apache License, Version 2.0 (the \"License\");\n",
              "// you may not use this file except in compliance with the License.\n",
              "// You may obtain a copy of the License at\n",
              "//\n",
              "//      http://www.apache.org/licenses/LICENSE-2.0\n",
              "//\n",
              "// Unless required by applicable law or agreed to in writing, software\n",
              "// distributed under the License is distributed on an \"AS IS\" BASIS,\n",
              "// WITHOUT WARRANTIES OR CONDITIONS OF ANY KIND, either express or implied.\n",
              "// See the License for the specific language governing permissions and\n",
              "// limitations under the License.\n",
              "\n",
              "/**\n",
              " * @fileoverview Helpers for google.colab Python module.\n",
              " */\n",
              "(function(scope) {\n",
              "function span(text, styleAttributes = {}) {\n",
              "  const element = document.createElement('span');\n",
              "  element.textContent = text;\n",
              "  for (const key of Object.keys(styleAttributes)) {\n",
              "    element.style[key] = styleAttributes[key];\n",
              "  }\n",
              "  return element;\n",
              "}\n",
              "\n",
              "// Max number of bytes which will be uploaded at a time.\n",
              "const MAX_PAYLOAD_SIZE = 100 * 1024;\n",
              "\n",
              "function _uploadFiles(inputId, outputId) {\n",
              "  const steps = uploadFilesStep(inputId, outputId);\n",
              "  const outputElement = document.getElementById(outputId);\n",
              "  // Cache steps on the outputElement to make it available for the next call\n",
              "  // to uploadFilesContinue from Python.\n",
              "  outputElement.steps = steps;\n",
              "\n",
              "  return _uploadFilesContinue(outputId);\n",
              "}\n",
              "\n",
              "// This is roughly an async generator (not supported in the browser yet),\n",
              "// where there are multiple asynchronous steps and the Python side is going\n",
              "// to poll for completion of each step.\n",
              "// This uses a Promise to block the python side on completion of each step,\n",
              "// then passes the result of the previous step as the input to the next step.\n",
              "function _uploadFilesContinue(outputId) {\n",
              "  const outputElement = document.getElementById(outputId);\n",
              "  const steps = outputElement.steps;\n",
              "\n",
              "  const next = steps.next(outputElement.lastPromiseValue);\n",
              "  return Promise.resolve(next.value.promise).then((value) => {\n",
              "    // Cache the last promise value to make it available to the next\n",
              "    // step of the generator.\n",
              "    outputElement.lastPromiseValue = value;\n",
              "    return next.value.response;\n",
              "  });\n",
              "}\n",
              "\n",
              "/**\n",
              " * Generator function which is called between each async step of the upload\n",
              " * process.\n",
              " * @param {string} inputId Element ID of the input file picker element.\n",
              " * @param {string} outputId Element ID of the output display.\n",
              " * @return {!Iterable<!Object>} Iterable of next steps.\n",
              " */\n",
              "function* uploadFilesStep(inputId, outputId) {\n",
              "  const inputElement = document.getElementById(inputId);\n",
              "  inputElement.disabled = false;\n",
              "\n",
              "  const outputElement = document.getElementById(outputId);\n",
              "  outputElement.innerHTML = '';\n",
              "\n",
              "  const pickedPromise = new Promise((resolve) => {\n",
              "    inputElement.addEventListener('change', (e) => {\n",
              "      resolve(e.target.files);\n",
              "    });\n",
              "  });\n",
              "\n",
              "  const cancel = document.createElement('button');\n",
              "  inputElement.parentElement.appendChild(cancel);\n",
              "  cancel.textContent = 'Cancel upload';\n",
              "  const cancelPromise = new Promise((resolve) => {\n",
              "    cancel.onclick = () => {\n",
              "      resolve(null);\n",
              "    };\n",
              "  });\n",
              "\n",
              "  // Wait for the user to pick the files.\n",
              "  const files = yield {\n",
              "    promise: Promise.race([pickedPromise, cancelPromise]),\n",
              "    response: {\n",
              "      action: 'starting',\n",
              "    }\n",
              "  };\n",
              "\n",
              "  cancel.remove();\n",
              "\n",
              "  // Disable the input element since further picks are not allowed.\n",
              "  inputElement.disabled = true;\n",
              "\n",
              "  if (!files) {\n",
              "    return {\n",
              "      response: {\n",
              "        action: 'complete',\n",
              "      }\n",
              "    };\n",
              "  }\n",
              "\n",
              "  for (const file of files) {\n",
              "    const li = document.createElement('li');\n",
              "    li.append(span(file.name, {fontWeight: 'bold'}));\n",
              "    li.append(span(\n",
              "        `(${file.type || 'n/a'}) - ${file.size} bytes, ` +\n",
              "        `last modified: ${\n",
              "            file.lastModifiedDate ? file.lastModifiedDate.toLocaleDateString() :\n",
              "                                    'n/a'} - `));\n",
              "    const percent = span('0% done');\n",
              "    li.appendChild(percent);\n",
              "\n",
              "    outputElement.appendChild(li);\n",
              "\n",
              "    const fileDataPromise = new Promise((resolve) => {\n",
              "      const reader = new FileReader();\n",
              "      reader.onload = (e) => {\n",
              "        resolve(e.target.result);\n",
              "      };\n",
              "      reader.readAsArrayBuffer(file);\n",
              "    });\n",
              "    // Wait for the data to be ready.\n",
              "    let fileData = yield {\n",
              "      promise: fileDataPromise,\n",
              "      response: {\n",
              "        action: 'continue',\n",
              "      }\n",
              "    };\n",
              "\n",
              "    // Use a chunked sending to avoid message size limits. See b/62115660.\n",
              "    let position = 0;\n",
              "    do {\n",
              "      const length = Math.min(fileData.byteLength - position, MAX_PAYLOAD_SIZE);\n",
              "      const chunk = new Uint8Array(fileData, position, length);\n",
              "      position += length;\n",
              "\n",
              "      const base64 = btoa(String.fromCharCode.apply(null, chunk));\n",
              "      yield {\n",
              "        response: {\n",
              "          action: 'append',\n",
              "          file: file.name,\n",
              "          data: base64,\n",
              "        },\n",
              "      };\n",
              "\n",
              "      let percentDone = fileData.byteLength === 0 ?\n",
              "          100 :\n",
              "          Math.round((position / fileData.byteLength) * 100);\n",
              "      percent.textContent = `${percentDone}% done`;\n",
              "\n",
              "    } while (position < fileData.byteLength);\n",
              "  }\n",
              "\n",
              "  // All done.\n",
              "  yield {\n",
              "    response: {\n",
              "      action: 'complete',\n",
              "    }\n",
              "  };\n",
              "}\n",
              "\n",
              "scope.google = scope.google || {};\n",
              "scope.google.colab = scope.google.colab || {};\n",
              "scope.google.colab._files = {\n",
              "  _uploadFiles,\n",
              "  _uploadFilesContinue,\n",
              "};\n",
              "})(self);\n",
              "</script> "
            ]
          },
          "metadata": {}
        },
        {
          "output_type": "stream",
          "name": "stdout",
          "text": [
            "Saving kaggle.json to kaggle.json\n"
          ]
        },
        {
          "output_type": "execute_result",
          "data": {
            "text/plain": [
              "{'kaggle.json': b'{\"username\":\"aditya2831\",\"key\":\"ed9cb3538f3bf76bf83da301a498b457\"}'}"
            ]
          },
          "metadata": {},
          "execution_count": 1
        }
      ],
      "source": [
        "from google.colab import files\n",
        "\n",
        "# This line will create a button to upload a file.\n",
        "print(\"Click the button below to upload your kaggle.json file.\")\n",
        "files.upload()"
      ]
    },
    {
      "cell_type": "code",
      "source": [
        "!mkdir -p ~/.kaggle"
      ],
      "metadata": {
        "id": "5fwuGAmYIT7w"
      },
      "execution_count": 2,
      "outputs": []
    },
    {
      "cell_type": "code",
      "source": [
        "!cp kaggle.json ~/.kaggle/"
      ],
      "metadata": {
        "id": "HcpEOlC7IX0u"
      },
      "execution_count": 3,
      "outputs": []
    },
    {
      "cell_type": "code",
      "source": [
        "!chmod 600 ~/.kaggle/kaggle.json"
      ],
      "metadata": {
        "id": "bFVnWR8GIZAg"
      },
      "execution_count": 4,
      "outputs": []
    },
    {
      "cell_type": "code",
      "source": [
        "!kaggle competitions download -c dogs-vs-cats"
      ],
      "metadata": {
        "colab": {
          "base_uri": "https://localhost:8080/"
        },
        "id": "7X68qzWsIgo1",
        "outputId": "cffa3017-2164-436e-9a30-3b55dfa4bff1"
      },
      "execution_count": 5,
      "outputs": [
        {
          "output_type": "stream",
          "name": "stdout",
          "text": [
            "Downloading dogs-vs-cats.zip to /content\n",
            " 99% 807M/812M [00:11<00:00, 90.6MB/s]\n",
            "100% 812M/812M [00:11<00:00, 75.3MB/s]\n"
          ]
        }
      ]
    },
    {
      "cell_type": "code",
      "source": [
        "!unzip -o dogs-vs-cats.zip"
      ],
      "metadata": {
        "colab": {
          "base_uri": "https://localhost:8080/"
        },
        "id": "pvSso8aVIyAR",
        "outputId": "b6225569-646d-4ef3-fa56-032f1af7bbe3"
      },
      "execution_count": 6,
      "outputs": [
        {
          "output_type": "stream",
          "name": "stdout",
          "text": [
            "Archive:  dogs-vs-cats.zip\n",
            "  inflating: sampleSubmission.csv    \n",
            "  inflating: test1.zip               \n",
            "  inflating: train.zip               \n"
          ]
        }
      ]
    },
    {
      "cell_type": "code",
      "source": [
        "# Unzip the training images\n",
        "!unzip -o -q train.zip -d .\n",
        "\n",
        "# Unzip the test images\n",
        "!unzip -o -q test1.zip -d .\n",
        "\n",
        "print(\"✅ All files are now correctly unzipped!\")"
      ],
      "metadata": {
        "colab": {
          "base_uri": "https://localhost:8080/"
        },
        "id": "5stk_5hMK0rY",
        "outputId": "45c957d7-f3ba-4ea7-8816-7fe1bb776ab9"
      },
      "execution_count": 7,
      "outputs": [
        {
          "output_type": "stream",
          "name": "stdout",
          "text": [
            "✅ All files are now correctly unzipped!\n"
          ]
        }
      ]
    },
    {
      "cell_type": "code",
      "source": [
        "import os\n",
        "import cv2\n",
        "import numpy as np\n",
        "from skimage.feature import hog\n",
        "from sklearn.model_selection import train_test_split\n",
        "from tqdm import tqdm"
      ],
      "metadata": {
        "id": "eiL08JKtLXgU"
      },
      "execution_count": 8,
      "outputs": []
    },
    {
      "cell_type": "code",
      "source": [
        "IMG_SIZE = (64, 128)\n",
        "DATA_SUBSET = 1000"
      ],
      "metadata": {
        "id": "khjF3G_MLaWH"
      },
      "execution_count": 9,
      "outputs": []
    },
    {
      "cell_type": "code",
      "source": [
        "train_dir = 'train/'"
      ],
      "metadata": {
        "id": "s481fyiGLdrR"
      },
      "execution_count": 10,
      "outputs": []
    },
    {
      "cell_type": "code",
      "source": [
        "all_filenames = os.listdir(train_dir)\n",
        "# Shuffle to get a random subset\n",
        "np.random.shuffle(all_filenames)"
      ],
      "metadata": {
        "id": "f1b-5qxzLgLN"
      },
      "execution_count": 11,
      "outputs": []
    },
    {
      "cell_type": "code",
      "source": [
        "cat_files = [f for f in all_filenames if f.startswith('cat')][:DATA_SUBSET]\n",
        "dog_files = [f for f in all_filenames if f.startswith('dog')][:DATA_SUBSET]\n",
        "image_files = cat_files + dog_files"
      ],
      "metadata": {
        "id": "MlTG_kP7LidI"
      },
      "execution_count": 12,
      "outputs": []
    },
    {
      "cell_type": "code",
      "source": [
        "features = []\n",
        "labels = []"
      ],
      "metadata": {
        "id": "sYY6jPkXLkmM"
      },
      "execution_count": 13,
      "outputs": []
    },
    {
      "cell_type": "code",
      "source": [
        "print(f\"Extracting HOG features from {len(image_files)} images...\")\n",
        "# tqdm provides a progress bar\n",
        "for image_file in tqdm(image_files):\n",
        "    # Create label: 0 for cat, 1 for dog\n",
        "    label = 0 if 'cat' in image_file else 1\n",
        "\n",
        "    # Read and resize image\n",
        "    image_path = os.path.join(train_dir, image_file)\n",
        "    image = cv2.imread(image_path)\n",
        "    if image is None:\n",
        "        print(f\"Warning: Could not read image {image_path}. Skipping.\")\n",
        "        continue\n",
        "\n",
        "    image_resized = cv2.resize(image, IMG_SIZE)\n",
        "\n",
        "    # Convert to grayscale for HOG\n",
        "    gray_image = cv2.cvtColor(image_resized, cv2.COLOR_BGR2GRAY)\n",
        "\n",
        "    # Extract HOG features\n",
        "    hog_features = hog(gray_image, orientations=9, pixels_per_cell=(8, 8),\n",
        "                       cells_per_block=(2, 2), block_norm='L2-Hys',\n",
        "                       visualize=False)\n",
        "\n",
        "    features.append(hog_features)\n",
        "    labels.append(label)"
      ],
      "metadata": {
        "colab": {
          "base_uri": "https://localhost:8080/"
        },
        "id": "POlsy8wPLm23",
        "outputId": "f84e9c25-df00-4caf-8aef-3a21f1935235"
      },
      "execution_count": 14,
      "outputs": [
        {
          "output_type": "stream",
          "name": "stdout",
          "text": [
            "Extracting HOG features from 2000 images...\n"
          ]
        },
        {
          "output_type": "stream",
          "name": "stderr",
          "text": [
            "100%|██████████| 2000/2000 [00:10<00:00, 186.20it/s]\n"
          ]
        }
      ]
    },
    {
      "cell_type": "code",
      "source": [
        "X = np.array(features)\n",
        "y = np.array(labels)\n",
        "\n",
        "print(\"\\nFeature extraction complete!\")\n",
        "print(\"Shape of feature matrix (X):\", X.shape)\n",
        "print(\"Shape of labels vector (y):\", y.shape)"
      ],
      "metadata": {
        "colab": {
          "base_uri": "https://localhost:8080/"
        },
        "id": "rqR8UleQLpfI",
        "outputId": "62325991-2da6-4122-ffd7-4a8ab3979a82"
      },
      "execution_count": 15,
      "outputs": [
        {
          "output_type": "stream",
          "name": "stdout",
          "text": [
            "\n",
            "Feature extraction complete!\n",
            "Shape of feature matrix (X): (2000, 3780)\n",
            "Shape of labels vector (y): (2000,)\n"
          ]
        }
      ]
    },
    {
      "cell_type": "code",
      "source": [
        "X_train, X_test, y_train, y_test = train_test_split(\n",
        "    X, y, test_size=0.2, random_state=42, stratify=y\n",
        ")\n",
        "\n",
        "print(f\"\\nData split complete:\")\n",
        "print(f\"Training samples: {len(X_train)}\")\n",
        "print(f\"Testing samples: {len(X_test)}\")"
      ],
      "metadata": {
        "colab": {
          "base_uri": "https://localhost:8080/"
        },
        "id": "sela8hukLxkI",
        "outputId": "88a07ec7-8f0b-4637-deb2-0ae76ca24a20"
      },
      "execution_count": 16,
      "outputs": [
        {
          "output_type": "stream",
          "name": "stdout",
          "text": [
            "\n",
            "Data split complete:\n",
            "Training samples: 1600\n",
            "Testing samples: 400\n"
          ]
        }
      ]
    },
    {
      "cell_type": "code",
      "source": [
        "from sklearn.svm import LinearSVC\n",
        "from sklearn.preprocessing import StandardScaler\n",
        "from sklearn.pipeline import Pipeline\n",
        "\n",
        "print(\"Creating model pipeline...\")\n",
        "# A pipeline chains steps together. First, it will scale the data, then it will train the SVM.\n",
        "svm_pipeline = Pipeline([\n",
        "    ('scaler', StandardScaler()),\n",
        "    ('svm', LinearSVC(C=1.0, random_state=42, dual=False, max_iter=10000))\n",
        "])\n",
        "\n",
        "print(\"Training the SVM model... This might take a moment.\")\n",
        "# The .fit() command starts the training process.\n",
        "svm_pipeline.fit(X_train, y_train)\n",
        "\n",
        "print(\"Model training complete! ✅\")"
      ],
      "metadata": {
        "colab": {
          "base_uri": "https://localhost:8080/"
        },
        "id": "_lqZkEcvMPMh",
        "outputId": "0a8b08b9-a875-46f0-9249-643f31157582"
      },
      "execution_count": 17,
      "outputs": [
        {
          "output_type": "stream",
          "name": "stdout",
          "text": [
            "Creating model pipeline...\n",
            "Training the SVM model... This might take a moment.\n",
            "Model training complete! ✅\n"
          ]
        }
      ]
    },
    {
      "cell_type": "code",
      "source": [
        "from sklearn.metrics import accuracy_score, classification_report\n",
        "\n",
        "print(\"Evaluating the model on the test data...\")\n",
        "\n",
        "# Use the trained pipeline to make predictions on the test set.\n",
        "y_pred = svm_pipeline.predict(X_test)\n",
        "\n",
        "# Calculate the accuracy score.\n",
        "accuracy = accuracy_score(y_test, y_pred)\n",
        "print(f\"\\nModel Accuracy: {accuracy * 100:.2f}%\")\n",
        "\n",
        "# Print a detailed report showing performance for both 'Cat' and 'Dog' classes.\n",
        "print(\"\\nClassification Report:\")\n",
        "print(classification_report(y_test, y_pred, target_names=['Cat', 'Dog']))"
      ],
      "metadata": {
        "colab": {
          "base_uri": "https://localhost:8080/"
        },
        "id": "Lf7r-pQGNX_x",
        "outputId": "d3c59288-fe51-48fd-d1bc-09b7e10fd0f5"
      },
      "execution_count": 18,
      "outputs": [
        {
          "output_type": "stream",
          "name": "stdout",
          "text": [
            "Evaluating the model on the test data...\n",
            "\n",
            "Model Accuracy: 60.75%\n",
            "\n",
            "Classification Report:\n",
            "              precision    recall  f1-score   support\n",
            "\n",
            "         Cat       0.61      0.57      0.59       200\n",
            "         Dog       0.60      0.64      0.62       200\n",
            "\n",
            "    accuracy                           0.61       400\n",
            "   macro avg       0.61      0.61      0.61       400\n",
            "weighted avg       0.61      0.61      0.61       400\n",
            "\n"
          ]
        }
      ]
    },
    {
      "cell_type": "code",
      "source": [
        "import pandas as pd\n",
        "from skimage.feature import hog\n",
        "import subprocess"
      ],
      "metadata": {
        "id": "RLFLjnadOnea"
      },
      "execution_count": 19,
      "outputs": []
    },
    {
      "cell_type": "code",
      "source": [
        "# --- SETUP: Ensure the test1 directory exists ---\n",
        "test_dir = 'test1/'\n",
        "if not os.path.isdir(test_dir):\n",
        "    print(f\"Directory '{test_dir}' not found. Unzipping 'test1.zip'...\")\n",
        "    subprocess.run(['unzip', '-o', '-q', 'test1.zip', '-d', '.'])\n",
        "    print(\"Unzipping complete.\")"
      ],
      "metadata": {
        "id": "7ziPP0TIPkPt"
      },
      "execution_count": 20,
      "outputs": []
    },
    {
      "cell_type": "code",
      "source": [
        "# We are using the 'svm_pipeline' you already trained\n",
        "IMG_SIZE = (64, 128)"
      ],
      "metadata": {
        "id": "T72Zz7o_PpY9"
      },
      "execution_count": 21,
      "outputs": []
    },
    {
      "cell_type": "code",
      "source": [
        "# --- PREDICTION ON TEST SET ---\n",
        "print(\"\\nPreparing to make predictions on the official test set...\")\n",
        "test_filenames = os.listdir(test_dir)\n",
        "# Sort files by their ID number to match the submission format\n",
        "test_filenames.sort(key=lambda x: int(x.split('.')[0]))\n",
        "\n",
        "results = []\n",
        "print(f\"Making predictions on {len(test_filenames)} test images...\")\n",
        "\n",
        "for filename in tqdm(test_filenames):\n",
        "    # Extract ID from filename (e.g., '123.jpg' -> '123')\n",
        "    image_id = filename.split('.')[0]\n",
        "\n",
        "    # Preprocess the image\n",
        "    image_path = os.path.join(test_dir, filename)\n",
        "    image = cv2.imread(image_path)\n",
        "    label = 1 # Default label if image can't be read\n",
        "    if image is not None:\n",
        "        image_resized = cv2.resize(image, IMG_SIZE)\n",
        "        gray_image = cv2.cvtColor(image_resized, cv2.COLOR_BGR2GRAY)\n",
        "\n",
        "        # Extract HOG features\n",
        "        hog_features = hog(gray_image, orientations=9, pixels_per_cell=(8, 8),\n",
        "                           cells_per_block=(2, 2), block_norm='L2-Hys')\n",
        "\n",
        "        # Reshape for a single prediction\n",
        "        hog_features_reshaped = hog_features.reshape(1, -1)\n",
        "\n",
        "        # Predict using the trained pipeline\n",
        "        prediction = svm_pipeline.predict(hog_features_reshaped)\n",
        "        label = prediction[0]\n",
        "\n",
        "    results.append({'id': int(image_id), 'label': int(label)})"
      ],
      "metadata": {
        "colab": {
          "base_uri": "https://localhost:8080/"
        },
        "id": "hBc14QxgPtEX",
        "outputId": "25434a56-e073-49ee-a3aa-645da5413d2f"
      },
      "execution_count": 22,
      "outputs": [
        {
          "output_type": "stream",
          "name": "stdout",
          "text": [
            "\n",
            "Preparing to make predictions on the official test set...\n",
            "Making predictions on 12500 test images...\n"
          ]
        },
        {
          "output_type": "stream",
          "name": "stderr",
          "text": [
            "100%|██████████| 12500/12500 [01:21<00:00, 152.71it/s]\n"
          ]
        }
      ]
    },
    {
      "cell_type": "code",
      "source": [
        "# --- CREATE AND SAVE DATAFRAME ---\n",
        "submission_df = pd.DataFrame(results)\n",
        "submission_df.to_csv('submission.csv', index=False)\n",
        "\n",
        "print(\"\\n✅ submission.csv file created successfully!\")\n",
        "print(\"Here are the first 5 rows of your submission file:\")\n",
        "print(submission_df.head())"
      ],
      "metadata": {
        "colab": {
          "base_uri": "https://localhost:8080/"
        },
        "id": "yiqPG_ieP4cz",
        "outputId": "d7a93ecf-1d67-4296-ed20-8e4b5685853e"
      },
      "execution_count": 23,
      "outputs": [
        {
          "output_type": "stream",
          "name": "stdout",
          "text": [
            "\n",
            "✅ submission.csv file created successfully!\n",
            "Here are the first 5 rows of your submission file:\n",
            "   id  label\n",
            "0   1      1\n",
            "1   2      1\n",
            "2   3      0\n",
            "3   4      0\n",
            "4   5      1\n"
          ]
        }
      ]
    }
  ]
}